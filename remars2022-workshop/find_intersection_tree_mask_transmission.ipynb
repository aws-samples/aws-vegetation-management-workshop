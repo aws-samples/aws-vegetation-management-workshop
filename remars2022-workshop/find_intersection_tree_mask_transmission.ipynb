{
 "cells": [
  {
   "cell_type": "markdown",
   "id": "4709d13b",
   "metadata": {},
   "source": [
    "## Calculating the intersection between tree masks and transmission lines"
   ]
  },
  {
   "cell_type": "markdown",
   "id": "e85f7a10",
   "metadata": {},
   "source": [
    "Step1: Polygon input for transmission line with an area of interest around the transmission line\n",
    "<br>Step2: Polygon input for tree masks\n",
    "<br>Step3: Get the intersection areas"
   ]
  },
  {
   "cell_type": "code",
   "execution_count": 1,
   "id": "7dc9223b",
   "metadata": {},
   "outputs": [
    {
     "name": "stdout",
     "output_type": "stream",
     "text": [
      "True\n",
      "1.0\n",
      "POLYGON ((2 2, 4 2, 3.1666666666666665 1.1666666666666667, 1.8333333333333333 1.8333333333333333, 2 2))\n"
     ]
    }
   ],
   "source": [
    "# Example of interection between Polygon p and Polygon q\n",
    "from shapely.geometry import Polygon\n",
    "\n",
    "p = Polygon([(1,1),(2,2),(4,2),(3,1)])\n",
    "q = Polygon([(1.5,2),(3,5),(5,4),(3.5,1)])\n",
    "print(p.intersects(q))  # True\n",
    "print(p.intersection(q).area)  # 1.0\n",
    "x = p.intersection(q)\n",
    "print(x) #POLYGON ((1.833333333333333 1.833333333333333, 2 2, 4 2, 3.166666666666667 1.166666666666667, 1.833333333333333 1.833333333333333))\n"
   ]
  },
  {
   "cell_type": "code",
   "execution_count": 2,
   "id": "a0dfa087",
   "metadata": {},
   "outputs": [
    {
     "data": {
      "image/svg+xml": [
       "<svg xmlns=\"http://www.w3.org/2000/svg\" xmlns:xlink=\"http://www.w3.org/1999/xlink\" width=\"100.0\" height=\"100.0\" viewBox=\"0.88 0.88 3.24 1.2400000000000002\" preserveAspectRatio=\"xMinYMin meet\"><g transform=\"matrix(1,0,0,-1,0,3.0)\"><path fill-rule=\"evenodd\" fill=\"#66cc99\" stroke=\"#555555\" stroke-width=\"0.06480000000000001\" opacity=\"0.6\" d=\"M 1.0,1.0 L 2.0,2.0 L 4.0,2.0 L 3.0,1.0 L 1.0,1.0 z\" /></g></svg>"
      ],
      "text/plain": [
       "<shapely.geometry.polygon.Polygon at 0x7fa4044a9400>"
      ]
     },
     "execution_count": 2,
     "metadata": {},
     "output_type": "execute_result"
    }
   ],
   "source": [
    "p"
   ]
  }
 ],
 "metadata": {
  "kernelspec": {
   "display_name": "conda_tutorial_env",
   "language": "python",
   "name": "conda_tutorial_env"
  },
  "language_info": {
   "codemirror_mode": {
    "name": "ipython",
    "version": 3
   },
   "file_extension": ".py",
   "mimetype": "text/x-python",
   "name": "python",
   "nbconvert_exporter": "python",
   "pygments_lexer": "ipython3",
   "version": "3.8.13"
  }
 },
 "nbformat": 4,
 "nbformat_minor": 5
}
