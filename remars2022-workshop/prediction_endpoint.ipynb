{
 "cells": [
  {
   "cell_type": "code",
   "execution_count": 20,
   "id": "40cc1ec2",
   "metadata": {},
   "outputs": [],
   "source": [
    "import json\n",
    "import logging\n",
    "import sys\n",
    "import os\n",
    "import numpy as np\n",
    "import skimage\n",
    "\n",
    "import torch\n",
    "import torch.nn as nn\n",
    "import torch.nn.functional as F\n",
    "\n",
    "logger = logging.getLogger(__name__)\n",
    "logger.setLevel(logging.DEBUG)\n",
    "logger.addHandler(logging.StreamHandler(sys.stdout))"
   ]
  },
  {
   "cell_type": "code",
   "execution_count": 2,
   "id": "d2af3a66",
   "metadata": {},
   "outputs": [],
   "source": [
    "device = torch.device(\"cuda\" if torch.cuda.is_available() else \"cpu\")"
   ]
  },
  {
   "cell_type": "code",
   "execution_count": 3,
   "id": "636b38e7",
   "metadata": {},
   "outputs": [],
   "source": [
    "from torchvision.models import vgg16\n",
    "\n",
    "\n",
    "def get_modified_vgg16_unet(in_channels=3):\n",
    "    \"\"\" Get a modified VGG16-Unet model with customized input channel numbers.\n",
    "    For example, we can set in_channels=3 and input RGB 3-channel images.\n",
    "    On the other hand, we can set in_channels=5 if we want to input both RGB\n",
    "    and 2-channel LIDAR data (elevation + intensity).\n",
    "    \"\"\"\n",
    "    class Modified_VGG16Unet(VGG16Unet):\n",
    "        def __init__(self):\n",
    "            super().__init__(in_channels=in_channels)\n",
    "    return Modified_VGG16Unet\n",
    "\n",
    "\n",
    "class DecoderBlock(nn.Module):\n",
    "    def __init__(self, in_channels, middle_channels, out_channels):\n",
    "        super().__init__()\n",
    "        self.in_channels = in_channels\n",
    "        self.block = nn.Sequential(\n",
    "            nn.Upsample(scale_factor=2, mode='bilinear', align_corners=False),\n",
    "            ConvRelu(in_channels, middle_channels),\n",
    "            ConvRelu(middle_channels, out_channels),\n",
    "        )\n",
    "\n",
    "    def forward(self, x):\n",
    "        return self.block(x)\n",
    "\n",
    "class ConvRelu(nn.Module):\n",
    "    def __init__(self, in_, out):\n",
    "        super().__init__()\n",
    "        self.conv = nn.Conv2d(in_, out, 3, padding=1)\n",
    "        self.activation = nn.ReLU(inplace=True)\n",
    "\n",
    "    def forward(self, x):\n",
    "        x = self.conv(x)\n",
    "        x = self.activation(x)\n",
    "        return x\n",
    "\n",
    "class VGG16Unet(nn.Module):\n",
    "    def __init__(self, in_channels=3, num_filters=32, pretrained=False):\n",
    "        super().__init__()\n",
    "        # Get VGG16 net as encoder\n",
    "        self.encoder = vgg16(pretrained=pretrained).features\n",
    "        self.pool = nn.MaxPool2d(2, 2)\n",
    "        self.relu = nn.ReLU(inplace=True)\n",
    "\n",
    "        # Modify encoder architecture\n",
    "        self.encoder[0] = nn.Conv2d(\n",
    "            in_channels, 64, kernel_size=3, stride=1, padding=1)\n",
    "        self.conv1 = nn.Sequential(\n",
    "            self.encoder[0], self.relu, self.encoder[2], self.relu)\n",
    "        self.conv2 = nn.Sequential(\n",
    "            self.encoder[5], self.relu, self.encoder[7], self.relu)\n",
    "        self.conv3 = nn.Sequential(\n",
    "            self.encoder[10], self.relu, self.encoder[12], self.relu,\n",
    "            self.encoder[14], self.relu)\n",
    "        self.conv4 = nn.Sequential(\n",
    "            self.encoder[17], self.relu, self.encoder[19], self.relu,\n",
    "            self.encoder[21], self.relu)\n",
    "        self.conv5 = nn.Sequential(\n",
    "            self.encoder[24], self.relu, self.encoder[26], self.relu,\n",
    "            self.encoder[28], self.relu)\n",
    "\n",
    "        # Build decoder\n",
    "        self.center = DecoderBlock(\n",
    "            512, num_filters*8*2, num_filters*8)\n",
    "        self.dec5 = DecoderBlock(\n",
    "            512 + num_filters*8, num_filters*8*2, num_filters*8)\n",
    "        self.dec4 = DecoderBlock(\n",
    "            512 + num_filters*8, num_filters*8*2, num_filters*8)\n",
    "        self.dec3 = DecoderBlock(\n",
    "            256 + num_filters*8, num_filters*4*2, num_filters*2)\n",
    "        self.dec2 = DecoderBlock(\n",
    "            128 + num_filters*2, num_filters*2*2, num_filters)\n",
    "        self.dec1 = ConvRelu(64 + num_filters, num_filters)\n",
    "\n",
    "        # Final output layer outputs logits, not probability\n",
    "        self.final = nn.Conv2d(num_filters, 1, kernel_size=1)\n",
    "\n",
    "    def forward(self, x):\n",
    "        conv1 = self.conv1(x)\n",
    "        conv2 = self.conv2(self.pool(conv1))\n",
    "        conv3 = self.conv3(self.pool(conv2))\n",
    "        conv4 = self.conv4(self.pool(conv3))\n",
    "        conv5 = self.conv5(self.pool(conv4))\n",
    "        center = self.center(self.pool(conv5))\n",
    "        dec5 = self.dec5(torch.cat([center, conv5], 1))\n",
    "        dec4 = self.dec4(torch.cat([dec5, conv4], 1))\n",
    "        dec3 = self.dec3(torch.cat([dec4, conv3], 1))\n",
    "        dec2 = self.dec2(torch.cat([dec3, conv2], 1))\n",
    "        dec1 = self.dec1(torch.cat([dec2, conv1], 1))\n",
    "        x_out = self.final(dec1)\n",
    "        return x_out\n"
   ]
  },
  {
   "cell_type": "code",
   "execution_count": 4,
   "id": "ea8d83f8",
   "metadata": {},
   "outputs": [],
   "source": [
    "# defining model and loading weights to it.\n",
    "def model_fn(model_dir):\n",
    "    model = get_modified_vgg16_unet(in_channels=4)()\n",
    "    with open(os.path.join(model_dir, \"model.pth\"), \"rb\") as f:\n",
    "        model.load_state_dict(torch.load(f, map_location='cpu'))\n",
    "    model.to(device).eval()\n",
    "    return model"
   ]
  },
  {
   "cell_type": "code",
   "execution_count": 6,
   "id": "e9b66d01",
   "metadata": {},
   "outputs": [],
   "source": [
    "model = model_fn('./models/trees/')"
   ]
  },
  {
   "cell_type": "code",
   "execution_count": 7,
   "id": "a312b718",
   "metadata": {},
   "outputs": [
    {
     "name": "stderr",
     "output_type": "stream",
     "text": [
      "2022-06-01 16:00:07.906708: I tensorflow/core/util/util.cc:169] oneDNN custom operations are on. You may see slightly different numerical results due to floating-point round-off errors from different computation orders. To turn them off, set the environment variable `TF_ENABLE_ONEDNN_OPTS=0`.\n",
      "2022-06-01 16:00:07.911466: W tensorflow/stream_executor/platform/default/dso_loader.cc:64] Could not load dynamic library 'libcudart.so.11.0'; dlerror: libcudart.so.11.0: cannot open shared object file: No such file or directory; LD_LIBRARY_PATH: /usr/local/cuda/lib:/usr/local/cuda/lib64:/usr/local/cuda/extras/CUPTI/lib64:/opt/amazon/efa/lib64:/opt/amazon/openmpi/lib64:/usr/local/lib:/usr/lib:/lib:/usr/local/cuda/lib:/usr/local/cuda/lib64:/usr/local/cuda/extras/CUPTI/lib64:/opt/amazon/efa/lib64:/opt/amazon/openmpi/lib64:/usr/local/lib:/usr/lib:/lib:\n",
      "2022-06-01 16:00:07.911478: I tensorflow/stream_executor/cuda/cudart_stub.cc:29] Ignore above cudart dlerror if you do not have a GPU set up on your machine.\n"
     ]
    }
   ],
   "source": [
    "from libs.solaris.nets.datagen import InferenceTiler"
   ]
  },
  {
   "cell_type": "code",
   "execution_count": 8,
   "id": "a55d3588",
   "metadata": {},
   "outputs": [],
   "source": [
    "config_inf_aug = {'augmentations': {'Normalize': {'mean': [0.0, 0.0, 0.0, 0.0],\n",
    "   'std': [1.0, 1.0, 1.0, 20.0],\n",
    "   'max_pixel_value': 255,\n",
    "   'p': 1.0}},\n",
    " 'p': 1.0}"
   ]
  },
  {
   "cell_type": "code",
   "execution_count": 9,
   "id": "c1c70a79",
   "metadata": {},
   "outputs": [],
   "source": [
    "from libs.solaris.nets import transform"
   ]
  },
  {
   "cell_type": "code",
   "execution_count": 10,
   "id": "a1117d84",
   "metadata": {},
   "outputs": [],
   "source": [
    "inf_tiler = InferenceTiler(\n",
    "            'torch',\n",
    "            width=512,\n",
    "            height=512,\n",
    "            x_step=None,\n",
    "            y_step=None,\n",
    "            augmentations=transform.process_aug_dict(\n",
    "                config_inf_aug)\n",
    "            )"
   ]
  },
  {
   "cell_type": "code",
   "execution_count": 11,
   "id": "e4496008",
   "metadata": {},
   "outputs": [],
   "source": [
    "im_path = './data/trees/RGB+ELEV/SN2_buildings_train_AOI_2_Vegas_RGB+ELEV_img1105.tif'"
   ]
  },
  {
   "cell_type": "code",
   "execution_count": 12,
   "id": "aa5f955f",
   "metadata": {},
   "outputs": [],
   "source": [
    "inf_input, idx_refs, (src_im_height, src_im_width) = inf_tiler(im_path)"
   ]
  },
  {
   "cell_type": "code",
   "execution_count": 13,
   "id": "31c0e64d",
   "metadata": {},
   "outputs": [],
   "source": [
    "with torch.no_grad():\n",
    "    model.eval()\n",
    "inf_input = torch.from_numpy(inf_input).float().to(device)"
   ]
  },
  {
   "cell_type": "code",
   "execution_count": 29,
   "id": "ac6650bd",
   "metadata": {},
   "outputs": [],
   "source": [
    "subarr_preds_list = []\n",
    "batch_size=20\n",
    "for batch_i in range(0, inf_input.shape[0], batch_size):\n",
    "    if batch_i + batch_size <= inf_input.shape[0]:\n",
    "        subarr_pred = model(inf_input[\n",
    "            batch_i:batch_i+batch_size, ...\n",
    "        ])\n",
    "    else:\n",
    "        subarr_pred = model(inf_input[\n",
    "            batch_i:, ...\n",
    "        ])\n",
    "    subarr_preds_list.append(subarr_pred.cpu().data.numpy())\n",
    "subarr_preds = np.concatenate(subarr_preds_list, axis=0)"
   ]
  },
  {
   "cell_type": "code",
   "execution_count": 30,
   "id": "f5c98751",
   "metadata": {},
   "outputs": [],
   "source": [
    "from libs.solaris.raster import image"
   ]
  },
  {
   "cell_type": "code",
   "execution_count": 31,
   "id": "170e3e01",
   "metadata": {},
   "outputs": [],
   "source": [
    "stitching_method = 'average'\n",
    "stitched_result = image.stitch_images(subarr_preds,\n",
    "                                idx_refs=idx_refs,\n",
    "                                out_width=src_im_width,\n",
    "                                out_height=src_im_height,\n",
    "                                method=stitching_method)"
   ]
  },
  {
   "cell_type": "code",
   "execution_count": 32,
   "id": "107d5a39",
   "metadata": {},
   "outputs": [],
   "source": [
    "output_file_name = './test.tif'\n",
    "skimage.io.imsave(output_file_name,stitched_result, check_contrast=False)"
   ]
  },
  {
   "cell_type": "code",
   "execution_count": 33,
   "id": "8ebb3518",
   "metadata": {},
   "outputs": [],
   "source": [
    "test_im = skimage.io.imread(output_file_name)[..., 0]"
   ]
  },
  {
   "cell_type": "code",
   "execution_count": 34,
   "id": "27aa0e13",
   "metadata": {},
   "outputs": [
    {
     "data": {
      "text/plain": [
       "<matplotlib.image.AxesImage at 0x7f2cc4805520>"
      ]
     },
     "execution_count": 34,
     "metadata": {},
     "output_type": "execute_result"
    },
    {
     "data": {
      "image/png": "[encoded data removed]",
      "text/plain": [
       "<Figure size 432x288 with 1 Axes>"
      ]
     },
     "metadata": {
      "needs_background": "light"
     },
     "output_type": "display_data"
    }
   ],
   "source": [
    "import matplotlib.pyplot as plt\n",
    "plt.imshow(test_im>0, cmap='Blues')"
   ]
  },
  {
   "cell_type": "code",
   "execution_count": 38,
   "id": "050d0612",
   "metadata": {},
   "outputs": [],
   "source": [
    "# data preprocessing\n",
    "def input_fn(request_body, request_content_type):\n",
    "    assert request_content_type == \"application/json\"\n",
    "    config_inf_aug = {'augmentations': {'Normalize': {'mean': [0.0, 0.0, 0.0, 0.0],\n",
    "                                                      'std': [1.0, 1.0, 1.0, 20.0],\n",
    "                                                      'max_pixel_value': 255,\n",
    "                                                      'p': 1.0}},'p': 1.0}\n",
    "    inf_tiler = InferenceTiler(\n",
    "            'torch',\n",
    "            width=512,\n",
    "            height=512,\n",
    "            x_step=None,\n",
    "            y_step=None,\n",
    "            augmentations=transform.process_aug_dict(\n",
    "                config_inf_aug)\n",
    "            )\n",
    "    im_path = json.loads(request_body)[\"inputs\"]\n",
    "    inf_input, idx_refs, (src_im_height, src_im_width) = inf_tiler(im_path)\n",
    "    inf_input = torch.from_numpy(inf_input).float().to(device)\n",
    "    return inf_input, idx_refs, (src_im_height, src_im_width)"
   ]
  },
  {
   "cell_type": "code",
   "execution_count": 43,
   "id": "323d52bb",
   "metadata": {},
   "outputs": [
    {
     "data": {
      "text/plain": [
       "'{\"inputs\": \"./data/trees/RGB+ELEV/SN2_buildings_train_AOI_2_Vegas_RGB+ELEV_img1105.tif\"}'"
      ]
     },
     "execution_count": 43,
     "metadata": {},
     "output_type": "execute_result"
    }
   ],
   "source": [
    "dummy_data = {'inputs': './data/trees/RGB+ELEV/SN2_buildings_train_AOI_2_Vegas_RGB+ELEV_img1105.tif'}\n",
    "# input_fn(dummy_data, \"application/json\")\n",
    "s1 = json.dumps(dummy_data)\n",
    "input_fn(s1, \"application/json\")"
   ]
  },
  {
   "cell_type": "code",
   "execution_count": 36,
   "id": "2f648b8d",
   "metadata": {},
   "outputs": [],
   "source": [
    "# inference\n",
    "def predict_fn(input_object, model):\n",
    "    with torch.no_grad():\n",
    "        model.eval()\n",
    "    subarr_preds_list = []\n",
    "    batch_size=20\n",
    "    for batch_i in range(0, inf_input.shape[0], batch_size):\n",
    "        if batch_i + batch_size <= inf_input.shape[0]:\n",
    "            subarr_pred = model(inf_input[\n",
    "                batch_i:batch_i+batch_size, ...\n",
    "            ])\n",
    "        else:\n",
    "            subarr_pred = model(inf_input[\n",
    "                batch_i:, ...\n",
    "            ])\n",
    "        subarr_preds_list.append(subarr_pred.cpu().data.numpy())\n",
    "    subarr_preds = np.concatenate(subarr_preds_list, axis=0)\n",
    "    return subarr_preds"
   ]
  },
  {
   "cell_type": "code",
   "execution_count": 37,
   "id": "b49dcad9",
   "metadata": {},
   "outputs": [],
   "source": [
    "# postprocess\n",
    "output_file_name = './test.tif'\n",
    "def output_fn(subarr_preds, output_file_name):\n",
    "    stitching_method = 'average'\n",
    "    stitched_result = image.stitch_images(subarr_preds,\n",
    "                                    idx_refs=idx_refs,\n",
    "                                    out_width=src_im_width,\n",
    "                                    out_height=src_im_height,\n",
    "                                    method=stitching_method)\n",
    "    skimage.io.imsave(output_file_name,stitched_result, check_contrast=False)\n",
    "    return "
   ]
  },
  {
   "cell_type": "code",
   "execution_count": null,
   "id": "17781ac2",
   "metadata": {},
   "outputs": [],
   "source": []
  }
 ],
 "metadata": {
  "kernelspec": {
   "display_name": "conda_tutorial_env",
   "language": "python",
   "name": "conda_tutorial_env"
  },
  "language_info": {
   "codemirror_mode": {
    "name": "ipython",
    "version": 3
   },
   "file_extension": ".py",
   "mimetype": "text/x-python",
   "name": "python",
   "nbconvert_exporter": "python",
   "pygments_lexer": "ipython3",
   "version": "3.8.13"
  }
 },
 "nbformat": 4,
 "nbformat_minor": 5
}
