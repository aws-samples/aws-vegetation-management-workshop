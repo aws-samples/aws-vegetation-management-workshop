{
 "cells": [
  {
   "cell_type": "markdown",
   "id": "ae75e694",
   "metadata": {},
   "source": [
    "# Prerequisites for the workshop"
   ]
  },
  {
   "cell_type": "markdown",
   "id": "f7317d1c",
   "metadata": {},
   "source": [
    "## Conda environment for the workshop (preconfigured)"
   ]
  },
  {
   "cell_type": "code",
   "execution_count": 1,
   "id": "03475b5b",
   "metadata": {},
   "outputs": [],
   "source": [
    "# Creating a conda environment (tutorial-env) with the libraries installed\n",
    "!./setup-env.sh tutorial_env"
   ]
  },
  {
   "cell_type": "code",
   "execution_count": null,
   "id": "423b622f",
   "metadata": {},
   "outputs": [],
   "source": [
    "# Data download for the workshop\n",
    "# Select subset of the data that will be used for the workshop and give link to the s3 bucket for all the data \n"
   ]
  },
  {
   "cell_type": "code",
   "execution_count": null,
   "id": "04b6c76e",
   "metadata": {},
   "outputs": [],
   "source": [
    "# All the data can be dowloaded using the following script \n",
    "!./download-from-s3.sh"
   ]
  }
 ],
 "metadata": {
  "kernelspec": {
   "display_name": "conda_amazonei_mxnet_p36",
   "language": "python",
   "name": "conda_amazonei_mxnet_p36"
  },
  "language_info": {
   "codemirror_mode": {
    "name": "ipython",
    "version": 3
   },
   "file_extension": ".py",
   "mimetype": "text/x-python",
   "name": "python",
   "nbconvert_exporter": "python",
   "pygments_lexer": "ipython3",
   "version": "3.6.13"
  }
 },
 "nbformat": 4,
 "nbformat_minor": 5
}
